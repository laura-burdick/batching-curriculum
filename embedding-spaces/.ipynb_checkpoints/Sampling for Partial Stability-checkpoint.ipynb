{
 "cells": [
  {
   "cell_type": "code",
   "execution_count": 34,
   "metadata": {
    "collapsed": true
   },
   "outputs": [],
   "source": [
    "%matplotlib inline\n",
    "\n",
    "import matplotlib.pyplot as plt\n",
    "import numpy as np\n",
    "import pickle\n",
    "from collections import Counter\n",
    "from tqdm import tqdm_notebook,tnrange\n",
    "import time"
   ]
  },
  {
   "cell_type": "code",
   "execution_count": 3,
   "metadata": {},
   "outputs": [
    {
     "name": "stdout",
     "output_type": "stream",
     "text": [
      "Load data\n",
      "Load wordlist\n",
      "Len wordList 894044\n"
     ]
    }
   ],
   "source": [
    "datasetFolder='/local/embedding_datasets/'\n",
    "\n",
    "print('Load data')\n",
    "with open(datasetFolder+'curriculum_learning_replication/wiki/wiki_sentences.txt','r') as dataFile:\n",
    "\tsentences = [i[:-1].split(' ') for i in dataFile.readlines()]\n",
    "\n",
    "print('Load wordlist')\n",
    "with open(datasetFolder+'/curriculum_learning_replication/wiki/wordList.pkl','rb') as pickleFile:\n",
    "\twordList = pickle.load(pickleFile)\n",
    "print('Len wordList',len(wordList))"
   ]
  },
  {
   "cell_type": "code",
   "execution_count": 4,
   "metadata": {},
   "outputs": [
    {
     "name": "stderr",
     "output_type": "stream",
     "text": [
      "\r",
      "  0%|          | 0/5269686 [00:00<?, ?it/s]"
     ]
    },
    {
     "name": "stdout",
     "output_type": "stream",
     "text": [
      "Counting words\n"
     ]
    },
    {
     "name": "stderr",
     "output_type": "stream",
     "text": [
      "100%|██████████| 5269686/5269686 [00:56<00:00, 93395.50it/s]\n",
      "100%|██████████| 894044/894044 [00:00<00:00, 1136364.41it/s]\n",
      "100%|██████████| 894044/894044 [00:00<00:00, 1016170.12it/s]\n"
     ]
    }
   ],
   "source": [
    "print('Counting words')\n",
    "wordCounter = Counter()\n",
    "for sentence in tqdm(sentences):\n",
    "\tfor word in sentence:\n",
    "\t\twordCounter[word] += 1\n",
    "probabilities = []\n",
    "totalWordCount = 0\n",
    "for word in tqdm(wordList):\n",
    "\ttotalWordCount += wordCounter[word]\n",
    "for word in tqdm(wordList):\n",
    "\tprobabilities.append(wordCounter[word] / totalWordCount)"
   ]
  },
  {
   "cell_type": "code",
   "execution_count": 5,
   "metadata": {},
   "outputs": [
    {
     "name": "stderr",
     "output_type": "stream",
     "text": [
      "\r",
      "  0%|          | 0/7 [00:00<?, ?it/s]"
     ]
    },
    {
     "name": "stdout",
     "output_type": "stream",
     "text": [
      "Load all nearest neighbors\n"
     ]
    },
    {
     "name": "stderr",
     "output_type": "stream",
     "text": [
      "100%|██████████| 7/7 [00:35<00:00,  5.00s/it]\n"
     ]
    }
   ],
   "source": [
    "print('Load all nearest neighbors')\n",
    "seeds = [2518,2548,2590,29,401,481,485]\n",
    "models = []\n",
    "for seed in tqdm(seeds):\n",
    "\twith open(datasetFolder+'baselines/nearestNeighbors/nearestNeighbors_WIKI_SENTENCES_no_modifications_'+str(seed)+'.pkl','rb') as pickleFile:\n",
    "\t\tmodels.append(pickle.load(pickleFile))"
   ]
  },
  {
   "cell_type": "code",
   "execution_count": 6,
   "metadata": {
    "collapsed": true
   },
   "outputs": [],
   "source": [
    "def stability(word,similar1,similar2,same=False):\n",
    "    if same and len(similar1) == 1:\n",
    "        return len(similar1[0])\n",
    "    \n",
    "    sets1 = [set(a) for a in similar1]\n",
    "    if not same:\n",
    "        sets2 = [set(b) for b in similar2]\n",
    "    else:\n",
    "        sets2 = sets1\n",
    "    \n",
    "    avgOverlap = 0\n",
    "    for i in range(len(similar1)):\n",
    "        for j in range(len(similar2)):\n",
    "            if not same or (same and i!=j):\n",
    "                avgOverlap += len(sets1[i] & sets2[j])\n",
    "\n",
    "    if same:\n",
    "        avgOverlap /= (len(similar1)*len(similar2)-len(similar1))\n",
    "    else:\n",
    "        avgOverlap /= (len(similar1)*len(similar2))\n",
    "    return avgOverlap\n"
   ]
  },
  {
   "cell_type": "code",
   "execution_count": 10,
   "metadata": {
    "scrolled": true
   },
   "outputs": [
    {
     "name": "stderr",
     "output_type": "stream",
     "text": [
      "\n",
      "  0%|          | 0/894044 [00:00<?, ?it/s]\u001b[A\n",
      "  0%|          | 4408/894044 [00:00<00:20, 42646.49it/s]\u001b[A\n",
      "  1%|          | 9814/894044 [00:00<00:18, 48257.02it/s]\u001b[A\n",
      "  2%|▏         | 15991/894044 [00:00<00:16, 52636.13it/s]\u001b[A\n",
      "  2%|▏         | 19795/894044 [00:00<00:17, 49066.17it/s]\u001b[A\n",
      "  3%|▎         | 24319/894044 [00:00<00:18, 48236.43it/s]\u001b[A\n",
      "  3%|▎         | 28668/894044 [00:00<00:18, 47418.14it/s]\u001b[A\n",
      "  4%|▎         | 32927/894044 [00:00<00:18, 46749.70it/s]\u001b[A\n",
      "  4%|▍         | 37040/894044 [00:00<00:18, 45778.38it/s]\u001b[A\n",
      "  5%|▍         | 41099/894044 [00:00<00:18, 44917.15it/s]\u001b[A\n",
      "  5%|▌         | 46683/894044 [00:01<00:18, 45995.24it/s]\u001b[A\n",
      "  6%|▌         | 52696/894044 [00:01<00:17, 47252.35it/s]\u001b[A\n",
      "  7%|▋         | 58692/894044 [00:01<00:17, 48298.72it/s]\u001b[A\n",
      "  7%|▋         | 64949/894044 [00:01<00:16, 49365.67it/s]\u001b[A\n",
      "  8%|▊         | 70501/894044 [00:01<00:16, 48709.74it/s]\u001b[A\n",
      "  9%|▊         | 76422/894044 [00:01<00:16, 49384.32it/s]\u001b[A\n",
      "  9%|▉         | 82391/894044 [00:01<00:16, 50006.62it/s]\u001b[A\n",
      " 10%|▉         | 88404/894044 [00:01<00:15, 50570.28it/s]\u001b[A\n",
      " 11%|█         | 94096/894044 [00:01<00:15, 50506.22it/s]\u001b[A\n",
      " 11%|█         | 99562/894044 [00:01<00:15, 50662.92it/s]\u001b[A\n",
      " 12%|█▏        | 105782/894044 [00:02<00:15, 51221.87it/s]\u001b[A\n",
      " 13%|█▎        | 111981/894044 [00:02<00:15, 51711.08it/s]\u001b[A\n",
      " 13%|█▎        | 118017/894044 [00:02<00:14, 52097.10it/s]\u001b[A\n",
      " 14%|█▍        | 124177/894044 [00:02<00:14, 52501.03it/s]\u001b[A\n",
      " 15%|█▍        | 130147/894044 [00:02<00:14, 52762.55it/s]\u001b[A\n",
      " 15%|█▌        | 136241/894044 [00:02<00:14, 53076.89it/s]\u001b[A\n",
      " 16%|█▌        | 142231/894044 [00:02<00:14, 53289.22it/s]\u001b[A\n",
      " 17%|█▋        | 148184/894044 [00:02<00:13, 53472.69it/s]\u001b[A\n",
      " 17%|█▋        | 154098/894044 [00:02<00:13, 53063.47it/s]\u001b[A\n",
      " 18%|█▊        | 159575/894044 [00:03<00:13, 52668.58it/s]\u001b[A\n",
      " 18%|█▊        | 164712/894044 [00:03<00:13, 52533.72it/s]\u001b[A\n",
      " 19%|█▉        | 169767/894044 [00:03<00:13, 52318.76it/s]\u001b[A\n",
      " 20%|█▉        | 174694/894044 [00:03<00:13, 51973.68it/s]\u001b[A\n",
      " 20%|██        | 179863/894044 [00:03<00:13, 51967.07it/s]\u001b[A\n",
      " 21%|██        | 186191/894044 [00:03<00:13, 52278.68it/s]\u001b[A\n",
      " 21%|██▏       | 191486/894044 [00:03<00:13, 52089.93it/s]\u001b[A\n",
      " 22%|██▏       | 197241/894044 [00:03<00:13, 52224.72it/s]\u001b[A\n",
      " 23%|██▎       | 208018/894044 [00:10<00:34, 19947.11it/s]Exception in thread Thread-8:\n",
      "Traceback (most recent call last):\n",
      "  File \"/local/anaconda3/lib/python3.6/threading.py\", line 916, in _bootstrap_inner\n",
      "    self.run()\n",
      "  File \"/local/anaconda3/lib/python3.6/site-packages/tqdm/_tqdm.py\", line 144, in run\n",
      "    for instance in self.tqdm_cls._instances:\n",
      "  File \"/local/anaconda3/lib/python3.6/_weakrefset.py\", line 60, in __iter__\n",
      "    for itemref in self.data:\n",
      "RuntimeError: Set changed size during iteration\n",
      "\n",
      "100%|██████████| 894044/894044 [00:28<00:00, 30876.33it/s]\n"
     ]
    }
   ],
   "source": [
    "wordStabilities = []\n",
    "for word in tqdm(wordList):\n",
    "    similar = []\n",
    "    for model in models:\n",
    "        similar.append([i[0] for i in model[word]])\n",
    "    wordStabilities.append(similar)"
   ]
  },
  {
   "cell_type": "code",
   "execution_count": 47,
   "metadata": {},
   "outputs": [
    {
     "data": {
      "application/vnd.jupyter.widget-view+json": {
       "model_id": "8ea28e160e924a08aa5d38f3deef395a",
       "version_major": 2,
       "version_minor": 0
      },
      "text/plain": [
       "A Jupyter Widget"
      ]
     },
     "metadata": {},
     "output_type": "display_data"
    },
    {
     "name": "stdout",
     "output_type": "stream",
     "text": [
      "\n"
     ]
    },
    {
     "name": "stderr",
     "output_type": "stream",
     "text": [
      "Exception in thread Thread-18:\n",
      "Traceback (most recent call last):\n",
      "  File \"/local/anaconda3/lib/python3.6/threading.py\", line 916, in _bootstrap_inner\n",
      "    self.run()\n",
      "  File \"/local/anaconda3/lib/python3.6/site-packages/tqdm/_tqdm.py\", line 144, in run\n",
      "    for instance in self.tqdm_cls._instances:\n",
      "  File \"/local/anaconda3/lib/python3.6/_weakrefset.py\", line 60, in __iter__\n",
      "    for itemref in self.data:\n",
      "RuntimeError: Set changed size during iteration\n",
      "\n"
     ]
    },
    {
     "name": "stdout",
     "output_type": "stream",
     "text": [
      "\n"
     ]
    }
   ],
   "source": [
    "stabilities = []\n",
    "for i in tnrange(len(wordList)):\n",
    "    word = wordList[i]\n",
    "    word_stability = wordStabilities[i]\n",
    "    stabilities.append(stability(word,word_stability,word_stability,True))"
   ]
  },
  {
   "cell_type": "code",
   "execution_count": 49,
   "metadata": {},
   "outputs": [
    {
     "data": {
      "application/vnd.jupyter.widget-view+json": {
       "model_id": "c3ddd0e60ba64bb7b5a8d1604516163b",
       "version_major": 2,
       "version_minor": 0
      },
      "text/plain": [
       "A Jupyter Widget"
      ]
     },
     "metadata": {},
     "output_type": "display_data"
    },
    {
     "name": "stdout",
     "output_type": "stream",
     "text": [
      "\n"
     ]
    }
   ],
   "source": [
    "avgStabilities = []\n",
    "for sampleNum in tnrange(1000,894044,1000):\n",
    "    sampledList = list(np.random.choice([i for i in range(len(wordList))],size=sampleNum,replace=False,p=probabilities))\n",
    "    avgStabilities.append(sum([stabilities[wordIndex] for wordIndex in sampledList]) / sampleNum)"
   ]
  },
  {
   "cell_type": "code",
   "execution_count": 50,
   "metadata": {},
   "outputs": [
    {
     "data": {
      "application/vnd.jupyter.widget-view+json": {
       "model_id": "05b925411ff5440aa9c694a54f273702",
       "version_major": 2,
       "version_minor": 0
      },
      "text/plain": [
       "A Jupyter Widget"
      ]
     },
     "metadata": {},
     "output_type": "display_data"
    },
    {
     "name": "stdout",
     "output_type": "stream",
     "text": [
      "\n"
     ]
    }
   ],
   "source": [
    "#Unweighted\n",
    "unweighted_avgStabilities = []\n",
    "for sampleNum in tnrange(1000,894044,1000):\n",
    "    sampledList = list(np.random.choice([i for i in range(len(wordList))],size=sampleNum,replace=False))\n",
    "    unweighted_avgStabilities.append(sum([stabilities[wordIndex] for wordIndex in sampledList]) / sampleNum)"
   ]
  },
  {
   "cell_type": "code",
   "execution_count": 51,
   "metadata": {},
   "outputs": [
    {
     "data": {
      "text/plain": [
       "Text(0.5,1,'Weighted Sampling')"
      ]
     },
     "execution_count": 51,
     "metadata": {},
     "output_type": "execute_result"
    },
    {
     "data": {
      "image/png": "[encoded data removed]",
      "text/plain": [
       "<matplotlib.figure.Figure at 0x7fb2ff9e8828>"
      ]
     },
     "metadata": {},
     "output_type": "display_data"
    }
   ],
   "source": [
    "plt.plot([i for i in range(1000,894044,1000)],avgStabilities)\n",
    "plt.xlabel('# Samples')\n",
    "plt.ylabel('Avg. Stability')\n",
    "plt.title('Weighted Sampling')"
   ]
  },
  {
   "cell_type": "code",
   "execution_count": 52,
   "metadata": {},
   "outputs": [
    {
     "data": {
      "text/plain": [
       "Text(0.5,1,'Unweighted Sampling')"
      ]
     },
     "execution_count": 52,
     "metadata": {},
     "output_type": "execute_result"
    },
    {
     "data": {
      "image/png": "[encoded data removed]",
      "text/plain": [
       "<matplotlib.figure.Figure at 0x7fb2fe4782e8>"
      ]
     },
     "metadata": {},
     "output_type": "display_data"
    }
   ],
   "source": [
    "plt.plot([i for i in range(1000,894044,1000)][:200],unweighted_avgStabilities[:200])\n",
    "plt.xlabel('# Samples')\n",
    "plt.ylabel('Avg. Stability')\n",
    "plt.title('Unweighted Sampling')"
   ]
  },
  {
   "cell_type": "code",
   "execution_count": 53,
   "metadata": {
    "collapsed": true
   },
   "outputs": [],
   "source": [
    "sampledList = list(np.random.choice(wordList,size=100000,replace=False))"
   ]
  },
  {
   "cell_type": "code",
   "execution_count": 54,
   "metadata": {},
   "outputs": [
    {
     "data": {
      "text/plain": [
       "100000"
      ]
     },
     "execution_count": 54,
     "metadata": {},
     "output_type": "execute_result"
    }
   ],
   "source": [
    "len(sampledList)"
   ]
  },
  {
   "cell_type": "code",
   "execution_count": 56,
   "metadata": {
    "collapsed": true
   },
   "outputs": [],
   "source": [
    "with open(datasetFolder+'curriculum_learning_replication/wiki/wordList_100000.pkl','wb') as pickleFile:\n",
    "    pickle.dump(sampledList,pickleFile)"
   ]
  },
  {
   "cell_type": "code",
   "execution_count": null,
   "metadata": {
    "collapsed": true
   },
   "outputs": [],
   "source": []
  }
 ],
 "metadata": {
  "kernelspec": {
   "display_name": "Python 3",
   "language": "python",
   "name": "python3"
  },
  "language_info": {
   "codemirror_mode": {
    "name": "ipython",
    "version": 3
   },
   "file_extension": ".py",
   "mimetype": "text/x-python",
   "name": "python",
   "nbconvert_exporter": "python",
   "pygments_lexer": "ipython3",
   "version": "3.6.1"
  }
 },
 "nbformat": 4,
 "nbformat_minor": 2
}
