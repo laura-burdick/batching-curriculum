{
 "cells": [
  {
   "cell_type": "code",
   "execution_count": 42,
   "metadata": {
    "collapsed": true
   },
   "outputs": [],
   "source": [
    "import pandas as pd\n",
    "import pickle"
   ]
  },
  {
   "cell_type": "code",
   "execution_count": 43,
   "metadata": {
    "collapsed": true
   },
   "outputs": [],
   "source": [
    "dataFolder = '/local/embedding_datasets/baselines/'"
   ]
  },
  {
   "cell_type": "code",
   "execution_count": 44,
   "metadata": {
    "collapsed": true
   },
   "outputs": [],
   "source": [
    "models = ['no_modifications','sorted_ascending','sorted_descending','sorted_ascending_batches',\\\n",
    "          'sorted_descending_batches']\n",
    "seeds = [2518,2548,2590,29,401,481,485,533,725,777]"
   ]
  },
  {
   "cell_type": "code",
   "execution_count": 45,
   "metadata": {
    "collapsed": true
   },
   "outputs": [],
   "source": [
    "#Human Activity Data\n",
    "data = pd.read_csv(dataFolder+'humanActivities/humanActivities_WIKI_SENTENCES_'+models[0]+'.csv')\n",
    "data['model'] = [models[0]]*len(temp)\n",
    "for model in models[1:]:\n",
    "    temp = pd.read_csv(dataFolder+'humanActivities/humanActivities_WIKI_SENTENCES_'+model+'.csv')\n",
    "    temp['model'] = [model]*len(temp)\n",
    "    data = data.append(temp)"
   ]
  },
  {
   "cell_type": "code",
   "execution_count": 46,
   "metadata": {
    "collapsed": true
   },
   "outputs": [],
   "source": [
    "data = data.groupby('model').mean()"
   ]
  },
  {
   "cell_type": "code",
   "execution_count": 47,
   "metadata": {
    "collapsed": true
   },
   "outputs": [],
   "source": [
    "data = data.drop(['seed'],axis=1)"
   ]
  },
  {
   "cell_type": "code",
   "execution_count": 48,
   "metadata": {
    "collapsed": true
   },
   "outputs": [],
   "source": [
    "#Word Stability\n",
    "stabilities = []\n",
    "for model in data.index:\n",
    "    with open(dataFolder+'wordStabilities/wordStabilities_WIKI_SENTENCES_'+model+'.pkl','rb') as pickleFile:\n",
    "        wordStabilities = pickle.load(pickleFile)\n",
    "        avg = 0\n",
    "        for word,stability in wordStabilities:\n",
    "            avg += stability\n",
    "        avg /= len(wordStabilities)\n",
    "        stabilities.append(avg)\n",
    "        \n",
    "data['wordStability'] = stabilities"
   ]
  },
  {
   "cell_type": "code",
   "execution_count": 49,
   "metadata": {},
   "outputs": [
    {
     "data": {
      "text/html": [
       "<div>\n",
       "<style>\n",
       "    .dataframe thead tr:only-child th {\n",
       "        text-align: right;\n",
       "    }\n",
       "\n",
       "    .dataframe thead th {\n",
       "        text-align: left;\n",
       "    }\n",
       "\n",
       "    .dataframe tbody tr th {\n",
       "        vertical-align: top;\n",
       "    }\n",
       "</style>\n",
       "<table border=\"1\" class=\"dataframe\">\n",
       "  <thead>\n",
       "    <tr style=\"text-align: right;\">\n",
       "      <th></th>\n",
       "      <th>sim</th>\n",
       "      <th>rel</th>\n",
       "      <th>ma</th>\n",
       "      <th>pac</th>\n",
       "      <th>wordStability</th>\n",
       "    </tr>\n",
       "    <tr>\n",
       "      <th>model</th>\n",
       "      <th></th>\n",
       "      <th></th>\n",
       "      <th></th>\n",
       "      <th></th>\n",
       "      <th></th>\n",
       "    </tr>\n",
       "  </thead>\n",
       "  <tbody>\n",
       "    <tr>\n",
       "      <th>no_modifications</th>\n",
       "      <td>0.312620</td>\n",
       "      <td>0.292151</td>\n",
       "      <td>0.290800</td>\n",
       "      <td>0.195535</td>\n",
       "      <td>4.208311</td>\n",
       "    </tr>\n",
       "    <tr>\n",
       "      <th>sorted_ascending</th>\n",
       "      <td>0.318865</td>\n",
       "      <td>0.297637</td>\n",
       "      <td>0.297942</td>\n",
       "      <td>0.196896</td>\n",
       "      <td>4.188000</td>\n",
       "    </tr>\n",
       "    <tr>\n",
       "      <th>sorted_ascending_batches</th>\n",
       "      <td>0.346883</td>\n",
       "      <td>0.323431</td>\n",
       "      <td>0.321547</td>\n",
       "      <td>0.211904</td>\n",
       "      <td>4.094044</td>\n",
       "    </tr>\n",
       "    <tr>\n",
       "      <th>sorted_descending</th>\n",
       "      <td>0.365637</td>\n",
       "      <td>0.343995</td>\n",
       "      <td>0.341021</td>\n",
       "      <td>0.227302</td>\n",
       "      <td>4.159467</td>\n",
       "    </tr>\n",
       "    <tr>\n",
       "      <th>sorted_descending_batches</th>\n",
       "      <td>0.415791</td>\n",
       "      <td>0.392513</td>\n",
       "      <td>0.389183</td>\n",
       "      <td>0.263196</td>\n",
       "      <td>3.958333</td>\n",
       "    </tr>\n",
       "  </tbody>\n",
       "</table>\n",
       "</div>"
      ],
      "text/plain": [
       "                                sim       rel        ma       pac  \\\n",
       "model                                                               \n",
       "no_modifications           0.312620  0.292151  0.290800  0.195535   \n",
       "sorted_ascending           0.318865  0.297637  0.297942  0.196896   \n",
       "sorted_ascending_batches   0.346883  0.323431  0.321547  0.211904   \n",
       "sorted_descending          0.365637  0.343995  0.341021  0.227302   \n",
       "sorted_descending_batches  0.415791  0.392513  0.389183  0.263196   \n",
       "\n",
       "                           wordStability  \n",
       "model                                     \n",
       "no_modifications                4.208311  \n",
       "sorted_ascending                4.188000  \n",
       "sorted_ascending_batches        4.094044  \n",
       "sorted_descending               4.159467  \n",
       "sorted_descending_batches       3.958333  "
      ]
     },
     "execution_count": 49,
     "metadata": {},
     "output_type": "execute_result"
    }
   ],
   "source": [
    "data"
   ]
  },
  {
   "cell_type": "code",
   "execution_count": null,
   "metadata": {
    "collapsed": true
   },
   "outputs": [],
   "source": []
  }
 ],
 "metadata": {
  "kernelspec": {
   "display_name": "Python 3",
   "language": "python",
   "name": "python3"
  },
  "language_info": {
   "codemirror_mode": {
    "name": "ipython",
    "version": 3
   },
   "file_extension": ".py",
   "mimetype": "text/x-python",
   "name": "python",
   "nbconvert_exporter": "python",
   "pygments_lexer": "ipython3",
   "version": "3.6.1"
  }
 },
 "nbformat": 4,
 "nbformat_minor": 2
}
